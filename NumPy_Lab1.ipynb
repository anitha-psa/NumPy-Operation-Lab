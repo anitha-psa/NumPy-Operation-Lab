{
 "cells": [
  {
   "cell_type": "markdown",
   "id": "705b1482",
   "metadata": {},
   "source": [
    "Jupyter Notebook file created: NumPy_Lab1.ipynb"
   ]
  },
  {
   "cell_type": "code",
   "execution_count": 1,
   "id": "fbc7d1e6",
   "metadata": {},
   "outputs": [
    {
     "name": "stdout",
     "output_type": "stream",
     "text": [
      "Array: [ 1  4  7 10 13 16 19]\n"
     ]
    }
   ],
   "source": [
    "import numpy as np\n",
    "\n",
    "arr = np.arange(1, 21, 3)\n",
    "print(\"Array:\", arr)\n"
   ]
  },
  {
   "cell_type": "code",
   "execution_count": 2,
   "id": "eebd68a3",
   "metadata": {},
   "outputs": [
    {
     "name": "stdout",
     "output_type": "stream",
     "text": [
      "Random array of shape (3,): [0.31334585 0.96977101 0.25815234]\n"
     ]
    }
   ],
   "source": [
    "rand_arr = np.random.rand(3)\n",
    "print(\"Random array of shape (3,):\", rand_arr)\n"
   ]
  },
  {
   "cell_type": "code",
   "execution_count": null,
   "id": "4c6d80ea",
   "metadata": {},
   "outputs": [],
   "source": [
    "A = np.array([[10, 20, 45], [30, 12, 16], [42, 17, 56]])\n",
    "\n",
    "# First two rows\n",
    "print(\"First two rows:\\n\", A[:2])\n",
    "\n",
    "# Last two rows\n",
    "print(\"Last two rows:\\n\", A[1:])\n"
   ]
  },
  {
   "cell_type": "code",
   "execution_count": 3,
   "id": "7e9af46a",
   "metadata": {},
   "outputs": [
    {
     "name": "stdout",
     "output_type": "stream",
     "text": [
      "Vertical Stack:\n",
      " [[1 2]\n",
      " [3 4]\n",
      " [5 6]\n",
      " [7 8]]\n",
      "Horizontal Stack:\n",
      " [[1 2 5 6]\n",
      " [3 4 7 8]]\n",
      "Split Arrays:\n",
      "[[1 2]\n",
      " [3 4]]\n",
      "[[5 6]\n",
      " [7 8]]\n"
     ]
    }
   ],
   "source": [
    "a = np.array([[1, 2], [3, 4]])\n",
    "b = np.array([[5, 6], [7, 8]])\n",
    "\n",
    "# Vertical stack\n",
    "vstack = np.vstack((a, b))\n",
    "print(\"Vertical Stack:\\n\", vstack)\n",
    "\n",
    "# Horizontal stack\n",
    "hstack = np.hstack((a, b))\n",
    "print(\"Horizontal Stack:\\n\", hstack)\n",
    "\n",
    "# Split horizontally into 2\n",
    "hsplit = np.hsplit(hstack, 2)\n",
    "print(\"Split Arrays:\")\n",
    "for part in hsplit:\n",
    "    print(part)\n"
   ]
  },
  {
   "cell_type": "code",
   "execution_count": 4,
   "id": "917cc6c9",
   "metadata": {},
   "outputs": [
    {
     "name": "stdout",
     "output_type": "stream",
     "text": [
      "Matrix Multiplication:\n",
      " [[70 28]\n",
      " [70 30]\n",
      " [60 26]]\n",
      "Invalid multiplication: shapes (3,3) and (2,2) not aligned: 3 (dim 1) != 2 (dim 0)\n"
     ]
    }
   ],
   "source": [
    "#6 Matrix multiplication feasibility\n",
    "\n",
    "X = np.array([[5, 7, 2], [4, 5, 6], [7, 4, 2]])\n",
    "Y = np.array([[4, 2], [6, 2], [4, 2]])\n",
    "\n",
    "# Valid multiplication (3x3) x (3x2) → (3x2)\n",
    "if X.shape[1] == Y.shape[0]:\n",
    "    result = np.dot(X, Y)\n",
    "    print(\"Matrix Multiplication:\\n\", result)\n",
    "else:\n",
    "    print(\"Multiplication Not Possible\")\n",
    "\n",
    "# Example of invalid multiplication\n",
    "Z = np.array([[1, 2], [3, 4]])  # 2x2\n",
    "try:\n",
    "    np.dot(X, Z)\n",
    "except ValueError as e:\n",
    "    print(\"Invalid multiplication:\", e)\n"
   ]
  },
  {
   "cell_type": "code",
   "execution_count": 5,
   "id": "da85c862",
   "metadata": {},
   "outputs": [
    {
     "name": "stdout",
     "output_type": "stream",
     "text": [
      "Shape of x: (3,)\n",
      "Dimensions of x: 1\n",
      "x reshaped shape: (3, 1)\n",
      "x reshaped ndim: 2\n",
      "y reshaped ndim: 2\n"
     ]
    }
   ],
   "source": [
    "#7 Vector x and y operations\n",
    "\n",
    "x = np.array([2, -1, -8])\n",
    "y = np.array([3, 1, -2])\n",
    "\n",
    "print(\"Shape of x:\", x.shape)\n",
    "print(\"Dimensions of x:\", x.ndim)\n",
    "\n",
    "# Reshape x and y\n",
    "x_reshaped = x.reshape(3, 1)\n",
    "y_reshaped = y.reshape(3, 1)\n",
    "\n",
    "print(\"x reshaped shape:\", x_reshaped.shape)\n",
    "print(\"x reshaped ndim:\", x_reshaped.ndim)\n",
    "print(\"y reshaped ndim:\", y_reshaped.ndim)\n"
   ]
  },
  {
   "cell_type": "code",
   "execution_count": 6,
   "id": "306d5801",
   "metadata": {},
   "outputs": [
    {
     "name": "stdout",
     "output_type": "stream",
     "text": [
      "Matrix:\n",
      " [[1 2 3]\n",
      " [4 5 6]\n",
      " [7 8 9]]\n",
      "Vector:\n",
      " [1 0 1]\n",
      "Broadcast Subtraction:\n",
      " [[0 2 2]\n",
      " [3 5 5]\n",
      " [6 8 8]]\n",
      "Broadcast Multiplication:\n",
      " [[1 0 3]\n",
      " [4 0 6]\n",
      " [7 0 9]]\n"
     ]
    }
   ],
   "source": [
    "#8 Broadcasting with 3*3 matrix\n",
    "\n",
    "M = np.array([[1, 2, 3],\n",
    "              [4, 5, 6],\n",
    "              [7, 8, 9]])\n",
    "\n",
    "v = np.array([1, 0, 1])\n",
    "\n",
    "print(\"Matrix:\\n\", M)\n",
    "print(\"Vector:\\n\", v)\n",
    "\n",
    "# Subtraction\n",
    "print(\"Broadcast Subtraction:\\n\", M - v)\n",
    "\n",
    "# Multiplication\n",
    "print(\"Broadcast Multiplication:\\n\", M * v)\n"
   ]
  },
  {
   "cell_type": "markdown",
   "id": "0928ec8d",
   "metadata": {},
   "source": [
    "#9 NumPy Lab Overview\n",
    "\n",
    "- **Array Creation:** Demonstrated how to create arrays using arange and random.\n",
    "- **Indexing/Slicing:** Extracted subsets from 2D arrays.\n",
    "- **Stacking & Splitting:** Shown both vertical and horizontal operations.\n",
    "- **Matrix Operations:** Verified multiplication compatibility and handled exceptions.\n",
    "- **Reshaping:** Vector reshaped and dimensions observed.\n",
    "- **Broadcasting:** Illustrated subtraction and multiplication over a 3x3 matrix.\n"
   ]
  },
  {
   "cell_type": "markdown",
   "id": "6a78bc73",
   "metadata": {},
   "source": [
    "#1 Solve using NumPy Linear Algebra\n",
    "2x1 + 3x2 - 4x3 = 6  \n",
    "x1 - 4x2 + 0x3 = 8  "
   ]
  },
  {
   "cell_type": "code",
   "execution_count": 7,
   "id": "c1708cbb",
   "metadata": {},
   "outputs": [
    {
     "name": "stdout",
     "output_type": "stream",
     "text": [
      "Rank of A: 2\n",
      "Rank of [A|b]: 2\n",
      "Infinite solutions.\n"
     ]
    }
   ],
   "source": [
    "from numpy.linalg import solve, matrix_rank\n",
    "\n",
    "# Add a third equation as 0 = 0 to create 3x3 system\n",
    "A1 = np.array([[2, 3, -4],\n",
    "               [1, -4, 0],\n",
    "               [0, 0, 0]])  # Added to form square matrix\n",
    "\n",
    "b1 = np.array([6, 8, 0])\n",
    "\n",
    "# Check rank\n",
    "rank_A1 = matrix_rank(A1)\n",
    "aug_rank_A1 = matrix_rank(np.column_stack((A1, b1)))\n",
    "\n",
    "print(\"Rank of A:\", rank_A1)\n",
    "print(\"Rank of [A|b]:\", aug_rank_A1)\n",
    "\n",
    "if rank_A1 == rank_A1 == 3:\n",
    "    x = solve(A1, b1)\n",
    "    print(\"Solution:\", x)\n",
    "elif rank_A1 == aug_rank_A1:\n",
    "    print(\"Infinite solutions.\")\n",
    "else:\n",
    "    print(\"No solution.\")\n"
   ]
  },
  {
   "cell_type": "markdown",
   "id": "9907eee2",
   "metadata": {},
   "source": [
    "#2 Solve using NumPy Linear Algebra\n",
    "3y1 - 4y2 + 5y3 = 10  \n",
    "-y1 + 2y2 - 4y3 = 8  "
   ]
  },
  {
   "cell_type": "code",
   "execution_count": null,
   "id": "7f83c003",
   "metadata": {},
   "outputs": [],
   "source": [
    "A2 = np.array([[3, -4, 5],\n",
    "               [-1, 2, -4],\n",
    "               [0, 0, 0]])\n",
    "\n",
    "b2 = np.array([10, 8, 0])\n",
    "\n",
    "rank_A2 = matrix_rank(A2)\n",
    "aug_rank_A2 = matrix_rank(np.column_stack((A2, b2)))\n",
    "\n",
    "print(\"Rank of A2:\", rank_A2)\n",
    "print(\"Rank of [A2|b2]:\", aug_rank_A2)\n",
    "\n",
    "if rank_A2 == aug_rank_A2 and rank_A2 == 3:\n",
    "    y = solve(A2, b2)\n",
    "    print(\"Solution:\", y)\n",
    "elif rank_A2 == aug_rank_A2:\n",
    "    print(\"Infinite solutions.\")\n",
    "else:\n",
    "    print(\"No solution.\")\n"
   ]
  }
 ],
 "metadata": {
  "kernelspec": {
   "display_name": "Python 3",
   "language": "python",
   "name": "python3"
  },
  "language_info": {
   "codemirror_mode": {
    "name": "ipython",
    "version": 3
   },
   "file_extension": ".py",
   "mimetype": "text/x-python",
   "name": "python",
   "nbconvert_exporter": "python",
   "pygments_lexer": "ipython3",
   "version": "3.13.3"
  }
 },
 "nbformat": 4,
 "nbformat_minor": 5
}
